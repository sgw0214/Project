{
    "cells": [
        {
            "metadata": {
                "collapsed": true
            },
            "cell_type": "markdown",
            "source": "Since I used a translator, I would like to inform you that there may be errors in the grammar. Please understand.\n\n1.Description of the problem and discussion of the background.\n-Real estate ownership in Korea is closely related to wealth accumulation. There are many ways to multiply wealth, such as stocks, savings, and funds, but among them, real estate is the fastest and most wealthy.\nIn particular, recently, apartment prices in Seoul have risen so much that'goyang-si Ilsan' and'Seongnam-si Bundang-gu' are emerging around Seoul. So, I'm going to express it so that I can see at a glance the clustering price of the apartment (100m^2) in Ilsan, Goyang, which is also where I live and is very interested.\nBy analyzing the clustered location, we want to check which location is suitable.\n\n2.Description of data and methods used for troubleshooting.\n-Apartment sales price is provided by the Ministry of Land, Infrastructure and Transport. It collects trading prices (one year) in Ilsan Seo-gu and Ilsan Dong-gu, and uses Google spreadsheets to acquire longitude and latitude. The map will be expressed in Python by arranging longitude and latitude based on address."
        }
    ],
    "metadata": {
        "kernelspec": {
            "name": "python3",
            "display_name": "Python 3.6",
            "language": "python"
        },
        "language_info": {
            "name": "python",
            "version": "3.6.9",
            "mimetype": "text/x-python",
            "codemirror_mode": {
                "name": "ipython",
                "version": 3
            },
            "pygments_lexer": "ipython3",
            "nbconvert_exporter": "python",
            "file_extension": ".py"
        }
    },
    "nbformat": 4,
    "nbformat_minor": 1
}